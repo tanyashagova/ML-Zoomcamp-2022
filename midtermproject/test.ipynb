{
 "cells": [
  {
   "cell_type": "code",
   "execution_count": 1,
   "id": "65c76435",
   "metadata": {},
   "outputs": [],
   "source": [
    "import requests"
   ]
  },
  {
   "cell_type": "code",
   "execution_count": 2,
   "id": "bcdabff6",
   "metadata": {},
   "outputs": [],
   "source": [
    "url = 'http://localhost:8080/predict'"
   ]
  },
  {
   "cell_type": "code",
   "execution_count": 3,
   "id": "ef0f2bbb",
   "metadata": {},
   "outputs": [],
   "source": [
    "record = {'BusinessTravel': 'travel_rarely', 'Department': 'sales', \n",
    "            'Education': 'bachelor', 'EducationField': 'life_sciences', \n",
    "            'EnvironmentSatisfaction': 'very_high', 'Gender': 'female', \n",
    "            'JobInvolvement': 'high', 'JobLevel': '2l', 'JobRole': 'sales_executive', \n",
    "            'JobSatisfaction': 'high', 'MaritalStatus': 'single', 'OverTime': 'no', \n",
    "            'PerformanceRating': 'excellent', 'RelationshipSatisfaction': 'high', \n",
    "            'StockOptionLevel': '0l', 'WorkLifeBalance': 'better', 'Age': 45, \n",
    "            'DailyRate': 374, 'DistanceFromHome': 20, 'EmployeeNumber': 2046, \n",
    "            'HourlyRate': 50, 'MonthlyIncome': 4850, 'MonthlyRate': 23333, \n",
    "            'NumCompaniesWorked': 8, 'PercentSalaryHike': 15, 'TotalWorkingYears': 8, \n",
    "            'TrainingTimesLastYear': 3, 'YearsAtCompany': 5, 'YearsInCurrentRole': 3, \n",
    "            'YearsSinceLastPromotion': 0, 'YearsWithCurrManager': 1}"
   ]
  },
  {
   "cell_type": "code",
   "execution_count": 7,
   "id": "2de05786",
   "metadata": {},
   "outputs": [
    {
     "data": {
      "text/plain": [
       "{'attrit': False, 'attrition_probability': 0.2460740077420348}"
      ]
     },
     "execution_count": 7,
     "metadata": {},
     "output_type": "execute_result"
    }
   ],
   "source": [
    "requests.post(url, json=record).json()"
   ]
  },
  {
   "cell_type": "code",
   "execution_count": null,
   "id": "fa82c12f",
   "metadata": {},
   "outputs": [],
   "source": []
  }
 ],
 "metadata": {
  "kernelspec": {
   "display_name": "Python 3 (ipykernel)",
   "language": "python",
   "name": "python3"
  },
  "language_info": {
   "codemirror_mode": {
    "name": "ipython",
    "version": 3
   },
   "file_extension": ".py",
   "mimetype": "text/x-python",
   "name": "python",
   "nbconvert_exporter": "python",
   "pygments_lexer": "ipython3",
   "version": "3.9.13"
  }
 },
 "nbformat": 4,
 "nbformat_minor": 5
}
