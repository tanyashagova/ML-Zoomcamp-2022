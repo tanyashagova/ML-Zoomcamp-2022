{
 "cells": [
  {
   "cell_type": "markdown",
   "id": "db5dead6",
   "metadata": {},
   "source": [
    "## California Housing Prices \n",
    "\n",
    "* Data link https://www.kaggle.com/datasets/camnugent/california-housing-prices "
   ]
  },
  {
   "cell_type": "code",
   "execution_count": 1,
   "id": "ccd96928",
   "metadata": {},
   "outputs": [],
   "source": [
    "import numpy as np\n",
    "import pandas as pd"
   ]
  },
  {
   "cell_type": "code",
   "execution_count": 2,
   "id": "c1960708",
   "metadata": {},
   "outputs": [],
   "source": [
    "data = 'data/housing.csv'\n",
    "df = pd.read_csv(data)"
   ]
  },
  {
   "cell_type": "code",
   "execution_count": 3,
   "id": "b062c0d5",
   "metadata": {},
   "outputs": [
    {
     "data": {
      "text/html": [
       "<div>\n",
       "<style scoped>\n",
       "    .dataframe tbody tr th:only-of-type {\n",
       "        vertical-align: middle;\n",
       "    }\n",
       "\n",
       "    .dataframe tbody tr th {\n",
       "        vertical-align: top;\n",
       "    }\n",
       "\n",
       "    .dataframe thead th {\n",
       "        text-align: right;\n",
       "    }\n",
       "</style>\n",
       "<table border=\"1\" class=\"dataframe\">\n",
       "  <thead>\n",
       "    <tr style=\"text-align: right;\">\n",
       "      <th></th>\n",
       "      <th>longitude</th>\n",
       "      <th>latitude</th>\n",
       "      <th>housing_median_age</th>\n",
       "      <th>total_rooms</th>\n",
       "      <th>total_bedrooms</th>\n",
       "      <th>population</th>\n",
       "      <th>households</th>\n",
       "      <th>median_income</th>\n",
       "      <th>median_house_value</th>\n",
       "      <th>ocean_proximity</th>\n",
       "    </tr>\n",
       "  </thead>\n",
       "  <tbody>\n",
       "    <tr>\n",
       "      <th>0</th>\n",
       "      <td>-122.23</td>\n",
       "      <td>37.88</td>\n",
       "      <td>41.0</td>\n",
       "      <td>880.0</td>\n",
       "      <td>129.0</td>\n",
       "      <td>322.0</td>\n",
       "      <td>126.0</td>\n",
       "      <td>8.3252</td>\n",
       "      <td>452600.0</td>\n",
       "      <td>NEAR BAY</td>\n",
       "    </tr>\n",
       "    <tr>\n",
       "      <th>1</th>\n",
       "      <td>-122.22</td>\n",
       "      <td>37.86</td>\n",
       "      <td>21.0</td>\n",
       "      <td>7099.0</td>\n",
       "      <td>1106.0</td>\n",
       "      <td>2401.0</td>\n",
       "      <td>1138.0</td>\n",
       "      <td>8.3014</td>\n",
       "      <td>358500.0</td>\n",
       "      <td>NEAR BAY</td>\n",
       "    </tr>\n",
       "    <tr>\n",
       "      <th>2</th>\n",
       "      <td>-122.24</td>\n",
       "      <td>37.85</td>\n",
       "      <td>52.0</td>\n",
       "      <td>1467.0</td>\n",
       "      <td>190.0</td>\n",
       "      <td>496.0</td>\n",
       "      <td>177.0</td>\n",
       "      <td>7.2574</td>\n",
       "      <td>352100.0</td>\n",
       "      <td>NEAR BAY</td>\n",
       "    </tr>\n",
       "    <tr>\n",
       "      <th>3</th>\n",
       "      <td>-122.25</td>\n",
       "      <td>37.85</td>\n",
       "      <td>52.0</td>\n",
       "      <td>1274.0</td>\n",
       "      <td>235.0</td>\n",
       "      <td>558.0</td>\n",
       "      <td>219.0</td>\n",
       "      <td>5.6431</td>\n",
       "      <td>341300.0</td>\n",
       "      <td>NEAR BAY</td>\n",
       "    </tr>\n",
       "    <tr>\n",
       "      <th>4</th>\n",
       "      <td>-122.25</td>\n",
       "      <td>37.85</td>\n",
       "      <td>52.0</td>\n",
       "      <td>1627.0</td>\n",
       "      <td>280.0</td>\n",
       "      <td>565.0</td>\n",
       "      <td>259.0</td>\n",
       "      <td>3.8462</td>\n",
       "      <td>342200.0</td>\n",
       "      <td>NEAR BAY</td>\n",
       "    </tr>\n",
       "  </tbody>\n",
       "</table>\n",
       "</div>"
      ],
      "text/plain": [
       "   longitude  latitude  housing_median_age  total_rooms  total_bedrooms  \\\n",
       "0    -122.23     37.88                41.0        880.0           129.0   \n",
       "1    -122.22     37.86                21.0       7099.0          1106.0   \n",
       "2    -122.24     37.85                52.0       1467.0           190.0   \n",
       "3    -122.25     37.85                52.0       1274.0           235.0   \n",
       "4    -122.25     37.85                52.0       1627.0           280.0   \n",
       "\n",
       "   population  households  median_income  median_house_value ocean_proximity  \n",
       "0       322.0       126.0         8.3252            452600.0        NEAR BAY  \n",
       "1      2401.0      1138.0         8.3014            358500.0        NEAR BAY  \n",
       "2       496.0       177.0         7.2574            352100.0        NEAR BAY  \n",
       "3       558.0       219.0         5.6431            341300.0        NEAR BAY  \n",
       "4       565.0       259.0         3.8462            342200.0        NEAR BAY  "
      ]
     },
     "execution_count": 3,
     "metadata": {},
     "output_type": "execute_result"
    }
   ],
   "source": [
    "df.head()"
   ]
  },
  {
   "cell_type": "code",
   "execution_count": 4,
   "id": "2cc13ef3",
   "metadata": {},
   "outputs": [
    {
     "data": {
      "text/plain": [
       "(20640, 10)"
      ]
     },
     "execution_count": 4,
     "metadata": {},
     "output_type": "execute_result"
    }
   ],
   "source": [
    "df.shape"
   ]
  },
  {
   "cell_type": "markdown",
   "id": "6d6bb747",
   "metadata": {},
   "source": [
    "## Data preparation\n",
    "\n",
    "* Select only the features from above and fill in the missing values with 0.\n",
    "* Create a new column rooms_per_household by dividing the column total_rooms by the column households from dataframe.\n",
    "* Create a new column bedrooms_per_room by dividing the column total_bedrooms by the column total_rooms from dataframe.\n",
    "* Create a new column population_per_household by dividing the column population by the column households from dataframe."
   ]
  },
  {
   "cell_type": "code",
   "execution_count": 5,
   "id": "4568e8c7",
   "metadata": {},
   "outputs": [],
   "source": [
    "features = ['latitude', 'longitude', 'housing_median_age',\n",
    "            'total_rooms', 'total_bedrooms', 'population',\n",
    "            'households', 'median_income', 'median_house_value',\n",
    "            'ocean_proximity']"
   ]
  },
  {
   "cell_type": "code",
   "execution_count": 6,
   "id": "b26dd351",
   "metadata": {},
   "outputs": [],
   "source": [
    "df = df[features]"
   ]
  },
  {
   "cell_type": "code",
   "execution_count": 7,
   "id": "45c5b33b",
   "metadata": {},
   "outputs": [
    {
     "data": {
      "text/plain": [
       "latitude                0\n",
       "longitude               0\n",
       "housing_median_age      0\n",
       "total_rooms             0\n",
       "total_bedrooms        207\n",
       "population              0\n",
       "households              0\n",
       "median_income           0\n",
       "median_house_value      0\n",
       "ocean_proximity         0\n",
       "dtype: int64"
      ]
     },
     "execution_count": 7,
     "metadata": {},
     "output_type": "execute_result"
    }
   ],
   "source": [
    "df.isnull().sum()"
   ]
  },
  {
   "cell_type": "markdown",
   "id": "359e2cca",
   "metadata": {},
   "source": [
    "Only column 'total_bedrooms' contains missing values. Fill missing values by 0"
   ]
  },
  {
   "cell_type": "code",
   "execution_count": 8,
   "id": "5933233b",
   "metadata": {},
   "outputs": [],
   "source": [
    "df = df.fillna(0)"
   ]
  },
  {
   "cell_type": "code",
   "execution_count": 12,
   "id": "2284665d",
   "metadata": {},
   "outputs": [],
   "source": [
    "df['rooms_per_household'] = df.total_rooms / df.households"
   ]
  },
  {
   "cell_type": "code",
   "execution_count": 13,
   "id": "b5e8a043",
   "metadata": {},
   "outputs": [],
   "source": [
    "df['bedrooms_per_room'] = df.total_bedrooms / df.total_rooms"
   ]
  },
  {
   "cell_type": "code",
   "execution_count": 14,
   "id": "f8a14fbc",
   "metadata": {},
   "outputs": [],
   "source": [
    "df['population_per_household'] = df.population / df.households"
   ]
  },
  {
   "cell_type": "code",
   "execution_count": 15,
   "id": "9979fca5",
   "metadata": {},
   "outputs": [
    {
     "data": {
      "text/html": [
       "<div>\n",
       "<style scoped>\n",
       "    .dataframe tbody tr th:only-of-type {\n",
       "        vertical-align: middle;\n",
       "    }\n",
       "\n",
       "    .dataframe tbody tr th {\n",
       "        vertical-align: top;\n",
       "    }\n",
       "\n",
       "    .dataframe thead th {\n",
       "        text-align: right;\n",
       "    }\n",
       "</style>\n",
       "<table border=\"1\" class=\"dataframe\">\n",
       "  <thead>\n",
       "    <tr style=\"text-align: right;\">\n",
       "      <th></th>\n",
       "      <th>latitude</th>\n",
       "      <th>longitude</th>\n",
       "      <th>housing_median_age</th>\n",
       "      <th>total_rooms</th>\n",
       "      <th>total_bedrooms</th>\n",
       "      <th>population</th>\n",
       "      <th>households</th>\n",
       "      <th>median_income</th>\n",
       "      <th>median_house_value</th>\n",
       "      <th>ocean_proximity</th>\n",
       "      <th>bedrooms_per_room</th>\n",
       "      <th>population_per_household</th>\n",
       "      <th>rooms_per_household</th>\n",
       "    </tr>\n",
       "  </thead>\n",
       "  <tbody>\n",
       "    <tr>\n",
       "      <th>0</th>\n",
       "      <td>37.88</td>\n",
       "      <td>-122.23</td>\n",
       "      <td>41.0</td>\n",
       "      <td>880.0</td>\n",
       "      <td>129.0</td>\n",
       "      <td>322.0</td>\n",
       "      <td>126.0</td>\n",
       "      <td>8.3252</td>\n",
       "      <td>452600.0</td>\n",
       "      <td>NEAR BAY</td>\n",
       "      <td>0.146591</td>\n",
       "      <td>2.555556</td>\n",
       "      <td>6.984127</td>\n",
       "    </tr>\n",
       "    <tr>\n",
       "      <th>1</th>\n",
       "      <td>37.86</td>\n",
       "      <td>-122.22</td>\n",
       "      <td>21.0</td>\n",
       "      <td>7099.0</td>\n",
       "      <td>1106.0</td>\n",
       "      <td>2401.0</td>\n",
       "      <td>1138.0</td>\n",
       "      <td>8.3014</td>\n",
       "      <td>358500.0</td>\n",
       "      <td>NEAR BAY</td>\n",
       "      <td>0.155797</td>\n",
       "      <td>2.109842</td>\n",
       "      <td>6.238137</td>\n",
       "    </tr>\n",
       "    <tr>\n",
       "      <th>2</th>\n",
       "      <td>37.85</td>\n",
       "      <td>-122.24</td>\n",
       "      <td>52.0</td>\n",
       "      <td>1467.0</td>\n",
       "      <td>190.0</td>\n",
       "      <td>496.0</td>\n",
       "      <td>177.0</td>\n",
       "      <td>7.2574</td>\n",
       "      <td>352100.0</td>\n",
       "      <td>NEAR BAY</td>\n",
       "      <td>0.129516</td>\n",
       "      <td>2.802260</td>\n",
       "      <td>8.288136</td>\n",
       "    </tr>\n",
       "    <tr>\n",
       "      <th>3</th>\n",
       "      <td>37.85</td>\n",
       "      <td>-122.25</td>\n",
       "      <td>52.0</td>\n",
       "      <td>1274.0</td>\n",
       "      <td>235.0</td>\n",
       "      <td>558.0</td>\n",
       "      <td>219.0</td>\n",
       "      <td>5.6431</td>\n",
       "      <td>341300.0</td>\n",
       "      <td>NEAR BAY</td>\n",
       "      <td>0.184458</td>\n",
       "      <td>2.547945</td>\n",
       "      <td>5.817352</td>\n",
       "    </tr>\n",
       "    <tr>\n",
       "      <th>4</th>\n",
       "      <td>37.85</td>\n",
       "      <td>-122.25</td>\n",
       "      <td>52.0</td>\n",
       "      <td>1627.0</td>\n",
       "      <td>280.0</td>\n",
       "      <td>565.0</td>\n",
       "      <td>259.0</td>\n",
       "      <td>3.8462</td>\n",
       "      <td>342200.0</td>\n",
       "      <td>NEAR BAY</td>\n",
       "      <td>0.172096</td>\n",
       "      <td>2.181467</td>\n",
       "      <td>6.281853</td>\n",
       "    </tr>\n",
       "  </tbody>\n",
       "</table>\n",
       "</div>"
      ],
      "text/plain": [
       "   latitude  longitude  housing_median_age  total_rooms  total_bedrooms  \\\n",
       "0     37.88    -122.23                41.0        880.0           129.0   \n",
       "1     37.86    -122.22                21.0       7099.0          1106.0   \n",
       "2     37.85    -122.24                52.0       1467.0           190.0   \n",
       "3     37.85    -122.25                52.0       1274.0           235.0   \n",
       "4     37.85    -122.25                52.0       1627.0           280.0   \n",
       "\n",
       "   population  households  median_income  median_house_value ocean_proximity  \\\n",
       "0       322.0       126.0         8.3252            452600.0        NEAR BAY   \n",
       "1      2401.0      1138.0         8.3014            358500.0        NEAR BAY   \n",
       "2       496.0       177.0         7.2574            352100.0        NEAR BAY   \n",
       "3       558.0       219.0         5.6431            341300.0        NEAR BAY   \n",
       "4       565.0       259.0         3.8462            342200.0        NEAR BAY   \n",
       "\n",
       "   bedrooms_per_room  population_per_household  rooms_per_household  \n",
       "0           0.146591                  2.555556             6.984127  \n",
       "1           0.155797                  2.109842             6.238137  \n",
       "2           0.129516                  2.802260             8.288136  \n",
       "3           0.184458                  2.547945             5.817352  \n",
       "4           0.172096                  2.181467             6.281853  "
      ]
     },
     "execution_count": 15,
     "metadata": {},
     "output_type": "execute_result"
    }
   ],
   "source": [
    "df.head()"
   ]
  },
  {
   "cell_type": "markdown",
   "id": "ae159530",
   "metadata": {},
   "source": [
    "## Question 1\n",
    "\n",
    "* What is the most frequent observation (mode) for the column ocean_proximity?"
   ]
  },
  {
   "cell_type": "code",
   "execution_count": 16,
   "id": "2400c10d",
   "metadata": {},
   "outputs": [
    {
     "data": {
      "text/plain": [
       "'<1H OCEAN'"
      ]
     },
     "execution_count": 16,
     "metadata": {},
     "output_type": "execute_result"
    }
   ],
   "source": [
    "ocean_proximity_mode = df.ocean_proximity.mode()[0]\n",
    "ocean_proximity_mode"
   ]
  },
  {
   "cell_type": "markdown",
   "id": "84ec2d5c",
   "metadata": {},
   "source": [
    "## Split the data\n",
    "\n",
    "* Split your data in train/val/test sets, with 60%/20%/20% distribution.\n",
    "* Use Scikit-Learn for that (the train_test_split function) and set the seed to 42.\n",
    "* Make sure that the target value (median_house_value) is not in your dataframe."
   ]
  },
  {
   "cell_type": "code",
   "execution_count": 17,
   "id": "b608e0b9",
   "metadata": {},
   "outputs": [],
   "source": [
    "from sklearn.model_selection import train_test_split "
   ]
  },
  {
   "cell_type": "code",
   "execution_count": 18,
   "id": "fc2df787",
   "metadata": {},
   "outputs": [],
   "source": [
    "df_full_train, df_test = train_test_split(df, test_size = 0.2, random_state=42)"
   ]
  },
  {
   "cell_type": "code",
   "execution_count": 19,
   "id": "0e003d02",
   "metadata": {},
   "outputs": [],
   "source": [
    "df_train, df_val = train_test_split(df_full_train, test_size = 0.25, random_state=42)"
   ]
  },
  {
   "cell_type": "code",
   "execution_count": 20,
   "id": "4ad4f452",
   "metadata": {},
   "outputs": [
    {
     "data": {
      "text/plain": [
       "(12384, 4128, 4128)"
      ]
     },
     "execution_count": 20,
     "metadata": {},
     "output_type": "execute_result"
    }
   ],
   "source": [
    "len(df_train), len(df_val), len(df_test)"
   ]
  },
  {
   "cell_type": "code",
   "execution_count": 21,
   "id": "a60ffae5",
   "metadata": {},
   "outputs": [],
   "source": [
    "df_train = df_train.reset_index(drop=True)\n",
    "df_val = df_val.reset_index(drop=True)\n",
    "df_test = df_test.reset_index(drop=True)"
   ]
  },
  {
   "cell_type": "code",
   "execution_count": 22,
   "id": "85b1c6f0",
   "metadata": {},
   "outputs": [],
   "source": [
    "y_train = df_train.median_house_value\n",
    "y_val = df_val.median_house_value\n",
    "y_test = df_test.median_house_value"
   ]
  },
  {
   "cell_type": "code",
   "execution_count": 23,
   "id": "03a193bf",
   "metadata": {},
   "outputs": [],
   "source": [
    "del df_train['median_house_value']\n",
    "del df_val['median_house_value']\n",
    "del df_test['median_house_value']"
   ]
  },
  {
   "cell_type": "code",
   "execution_count": 24,
   "id": "7ca9a85e",
   "metadata": {},
   "outputs": [
    {
     "data": {
      "text/html": [
       "<div>\n",
       "<style scoped>\n",
       "    .dataframe tbody tr th:only-of-type {\n",
       "        vertical-align: middle;\n",
       "    }\n",
       "\n",
       "    .dataframe tbody tr th {\n",
       "        vertical-align: top;\n",
       "    }\n",
       "\n",
       "    .dataframe thead th {\n",
       "        text-align: right;\n",
       "    }\n",
       "</style>\n",
       "<table border=\"1\" class=\"dataframe\">\n",
       "  <thead>\n",
       "    <tr style=\"text-align: right;\">\n",
       "      <th></th>\n",
       "      <th>latitude</th>\n",
       "      <th>longitude</th>\n",
       "      <th>housing_median_age</th>\n",
       "      <th>total_rooms</th>\n",
       "      <th>total_bedrooms</th>\n",
       "      <th>population</th>\n",
       "      <th>households</th>\n",
       "      <th>median_income</th>\n",
       "      <th>ocean_proximity</th>\n",
       "      <th>bedrooms_per_room</th>\n",
       "      <th>population_per_household</th>\n",
       "      <th>rooms_per_household</th>\n",
       "    </tr>\n",
       "  </thead>\n",
       "  <tbody>\n",
       "    <tr>\n",
       "      <th>0</th>\n",
       "      <td>34.43</td>\n",
       "      <td>-119.67</td>\n",
       "      <td>39.0</td>\n",
       "      <td>1467.0</td>\n",
       "      <td>381.0</td>\n",
       "      <td>1404.0</td>\n",
       "      <td>374.0</td>\n",
       "      <td>2.3681</td>\n",
       "      <td>&lt;1H OCEAN</td>\n",
       "      <td>0.259714</td>\n",
       "      <td>3.754011</td>\n",
       "      <td>3.922460</td>\n",
       "    </tr>\n",
       "    <tr>\n",
       "      <th>1</th>\n",
       "      <td>33.74</td>\n",
       "      <td>-118.32</td>\n",
       "      <td>24.0</td>\n",
       "      <td>6097.0</td>\n",
       "      <td>794.0</td>\n",
       "      <td>2248.0</td>\n",
       "      <td>806.0</td>\n",
       "      <td>10.1357</td>\n",
       "      <td>NEAR OCEAN</td>\n",
       "      <td>0.130228</td>\n",
       "      <td>2.789082</td>\n",
       "      <td>7.564516</td>\n",
       "    </tr>\n",
       "    <tr>\n",
       "      <th>2</th>\n",
       "      <td>39.13</td>\n",
       "      <td>-121.62</td>\n",
       "      <td>41.0</td>\n",
       "      <td>1317.0</td>\n",
       "      <td>309.0</td>\n",
       "      <td>856.0</td>\n",
       "      <td>337.0</td>\n",
       "      <td>1.6719</td>\n",
       "      <td>INLAND</td>\n",
       "      <td>0.234624</td>\n",
       "      <td>2.540059</td>\n",
       "      <td>3.908012</td>\n",
       "    </tr>\n",
       "    <tr>\n",
       "      <th>3</th>\n",
       "      <td>34.24</td>\n",
       "      <td>-118.63</td>\n",
       "      <td>9.0</td>\n",
       "      <td>4759.0</td>\n",
       "      <td>924.0</td>\n",
       "      <td>1884.0</td>\n",
       "      <td>915.0</td>\n",
       "      <td>4.8333</td>\n",
       "      <td>&lt;1H OCEAN</td>\n",
       "      <td>0.194158</td>\n",
       "      <td>2.059016</td>\n",
       "      <td>5.201093</td>\n",
       "    </tr>\n",
       "    <tr>\n",
       "      <th>4</th>\n",
       "      <td>37.52</td>\n",
       "      <td>-122.30</td>\n",
       "      <td>38.0</td>\n",
       "      <td>2769.0</td>\n",
       "      <td>387.0</td>\n",
       "      <td>994.0</td>\n",
       "      <td>395.0</td>\n",
       "      <td>5.5902</td>\n",
       "      <td>NEAR OCEAN</td>\n",
       "      <td>0.139762</td>\n",
       "      <td>2.516456</td>\n",
       "      <td>7.010127</td>\n",
       "    </tr>\n",
       "  </tbody>\n",
       "</table>\n",
       "</div>"
      ],
      "text/plain": [
       "   latitude  longitude  housing_median_age  total_rooms  total_bedrooms  \\\n",
       "0     34.43    -119.67                39.0       1467.0           381.0   \n",
       "1     33.74    -118.32                24.0       6097.0           794.0   \n",
       "2     39.13    -121.62                41.0       1317.0           309.0   \n",
       "3     34.24    -118.63                 9.0       4759.0           924.0   \n",
       "4     37.52    -122.30                38.0       2769.0           387.0   \n",
       "\n",
       "   population  households  median_income ocean_proximity  bedrooms_per_room  \\\n",
       "0      1404.0       374.0         2.3681       <1H OCEAN           0.259714   \n",
       "1      2248.0       806.0        10.1357      NEAR OCEAN           0.130228   \n",
       "2       856.0       337.0         1.6719          INLAND           0.234624   \n",
       "3      1884.0       915.0         4.8333       <1H OCEAN           0.194158   \n",
       "4       994.0       395.0         5.5902      NEAR OCEAN           0.139762   \n",
       "\n",
       "   population_per_household  rooms_per_household  \n",
       "0                  3.754011             3.922460  \n",
       "1                  2.789082             7.564516  \n",
       "2                  2.540059             3.908012  \n",
       "3                  2.059016             5.201093  \n",
       "4                  2.516456             7.010127  "
      ]
     },
     "execution_count": 24,
     "metadata": {},
     "output_type": "execute_result"
    }
   ],
   "source": [
    "df_train.head()"
   ]
  },
  {
   "cell_type": "markdown",
   "id": "7ea758af",
   "metadata": {},
   "source": [
    "## Question 2\n",
    "\n",
    "* Create the correlation matrix for the numerical features of your train dataset.\n",
    "* In a correlation matrix, you compute the correlation coefficient between every pair of features in the dataset.\n",
    "* What are the two features that have the biggest correlation in this dataset?"
   ]
  },
  {
   "cell_type": "code",
   "execution_count": 26,
   "id": "94d720ca",
   "metadata": {},
   "outputs": [
    {
     "data": {
      "text/plain": [
       "latitude                    float64\n",
       "longitude                   float64\n",
       "housing_median_age          float64\n",
       "total_rooms                 float64\n",
       "total_bedrooms              float64\n",
       "population                  float64\n",
       "households                  float64\n",
       "median_income               float64\n",
       "median_house_value          float64\n",
       "ocean_proximity              object\n",
       "bedrooms_per_room           float64\n",
       "population_per_household    float64\n",
       "rooms_per_household         float64\n",
       "dtype: object"
      ]
     },
     "execution_count": 26,
     "metadata": {},
     "output_type": "execute_result"
    }
   ],
   "source": [
    "df.dtypes"
   ]
  },
  {
   "cell_type": "code",
   "execution_count": 27,
   "id": "e7c5a6de",
   "metadata": {},
   "outputs": [],
   "source": [
    "numerical = ['latitude', 'longitude', 'housing_median_age',\n",
    "            'total_rooms', 'total_bedrooms', 'population',\n",
    "            'households', 'median_income', 'bedrooms_per_room',\n",
    "             'population_per_household', 'rooms_per_household']"
   ]
  },
  {
   "cell_type": "code",
   "execution_count": 28,
   "id": "97c66634",
   "metadata": {},
   "outputs": [],
   "source": [
    "num_numerical = len(numerical)\n",
    "corr_matrix = np.zeros((num_numerical, num_numerical))\n",
    "for i in range(num_numerical):\n",
    "    for j in range(num_numerical):\n",
    "        corr_matrix[i, j] = df_train[numerical[i]].corr(df_train[numerical[j]])"
   ]
  },
  {
   "cell_type": "code",
   "execution_count": 29,
   "id": "26daf498",
   "metadata": {},
   "outputs": [],
   "source": [
    "position = abs(corr_matrix - np.eye(num_numerical)).argmax()"
   ]
  },
  {
   "cell_type": "code",
   "execution_count": 30,
   "id": "d666f519",
   "metadata": {},
   "outputs": [
    {
     "data": {
      "text/plain": [
       "('total_bedrooms', 'households')"
      ]
     },
     "execution_count": 30,
     "metadata": {},
     "output_type": "execute_result"
    }
   ],
   "source": [
    "numerical[position // num_numerical], numerical[position % num_numerical]"
   ]
  },
  {
   "cell_type": "code",
   "execution_count": 32,
   "id": "8b8f5ebc",
   "metadata": {},
   "outputs": [
    {
     "data": {
      "text/html": [
       "<div>\n",
       "<style scoped>\n",
       "    .dataframe tbody tr th:only-of-type {\n",
       "        vertical-align: middle;\n",
       "    }\n",
       "\n",
       "    .dataframe tbody tr th {\n",
       "        vertical-align: top;\n",
       "    }\n",
       "\n",
       "    .dataframe thead th {\n",
       "        text-align: right;\n",
       "    }\n",
       "</style>\n",
       "<table border=\"1\" class=\"dataframe\">\n",
       "  <thead>\n",
       "    <tr style=\"text-align: right;\">\n",
       "      <th></th>\n",
       "      <th>latitude</th>\n",
       "      <th>longitude</th>\n",
       "      <th>housing_median_age</th>\n",
       "      <th>total_rooms</th>\n",
       "      <th>total_bedrooms</th>\n",
       "      <th>population</th>\n",
       "      <th>households</th>\n",
       "      <th>median_income</th>\n",
       "      <th>bedrooms_per_room</th>\n",
       "      <th>population_per_household</th>\n",
       "      <th>rooms_per_household</th>\n",
       "    </tr>\n",
       "  </thead>\n",
       "  <tbody>\n",
       "    <tr>\n",
       "      <th>latitude</th>\n",
       "      <td>1.000</td>\n",
       "      <td>-0.925</td>\n",
       "      <td>0.002</td>\n",
       "      <td>-0.026</td>\n",
       "      <td>-0.060</td>\n",
       "      <td>-0.100</td>\n",
       "      <td>-0.064</td>\n",
       "      <td>-0.077</td>\n",
       "      <td>-0.125</td>\n",
       "      <td>-0.002</td>\n",
       "      <td>0.119</td>\n",
       "    </tr>\n",
       "    <tr>\n",
       "      <th>longitude</th>\n",
       "      <td>-0.925</td>\n",
       "      <td>1.000</td>\n",
       "      <td>-0.100</td>\n",
       "      <td>0.036</td>\n",
       "      <td>0.064</td>\n",
       "      <td>0.092</td>\n",
       "      <td>0.050</td>\n",
       "      <td>-0.016</td>\n",
       "      <td>0.102</td>\n",
       "      <td>0.011</td>\n",
       "      <td>-0.035</td>\n",
       "    </tr>\n",
       "    <tr>\n",
       "      <th>housing_median_age</th>\n",
       "      <td>0.002</td>\n",
       "      <td>-0.100</td>\n",
       "      <td>1.000</td>\n",
       "      <td>-0.364</td>\n",
       "      <td>-0.324</td>\n",
       "      <td>-0.292</td>\n",
       "      <td>-0.306</td>\n",
       "      <td>-0.120</td>\n",
       "      <td>0.129</td>\n",
       "      <td>0.012</td>\n",
       "      <td>-0.181</td>\n",
       "    </tr>\n",
       "    <tr>\n",
       "      <th>total_rooms</th>\n",
       "      <td>-0.026</td>\n",
       "      <td>0.036</td>\n",
       "      <td>-0.364</td>\n",
       "      <td>1.000</td>\n",
       "      <td>0.932</td>\n",
       "      <td>0.853</td>\n",
       "      <td>0.921</td>\n",
       "      <td>0.199</td>\n",
       "      <td>-0.194</td>\n",
       "      <td>-0.029</td>\n",
       "      <td>0.169</td>\n",
       "    </tr>\n",
       "    <tr>\n",
       "      <th>total_bedrooms</th>\n",
       "      <td>-0.060</td>\n",
       "      <td>0.064</td>\n",
       "      <td>-0.324</td>\n",
       "      <td>0.932</td>\n",
       "      <td>1.000</td>\n",
       "      <td>0.877</td>\n",
       "      <td>0.979</td>\n",
       "      <td>-0.010</td>\n",
       "      <td>0.078</td>\n",
       "      <td>-0.034</td>\n",
       "      <td>0.010</td>\n",
       "    </tr>\n",
       "    <tr>\n",
       "      <th>population</th>\n",
       "      <td>-0.100</td>\n",
       "      <td>0.092</td>\n",
       "      <td>-0.292</td>\n",
       "      <td>0.853</td>\n",
       "      <td>0.877</td>\n",
       "      <td>1.000</td>\n",
       "      <td>0.907</td>\n",
       "      <td>-0.001</td>\n",
       "      <td>0.032</td>\n",
       "      <td>0.065</td>\n",
       "      <td>-0.076</td>\n",
       "    </tr>\n",
       "    <tr>\n",
       "      <th>households</th>\n",
       "      <td>-0.064</td>\n",
       "      <td>0.050</td>\n",
       "      <td>-0.306</td>\n",
       "      <td>0.921</td>\n",
       "      <td>0.979</td>\n",
       "      <td>0.907</td>\n",
       "      <td>1.000</td>\n",
       "      <td>0.012</td>\n",
       "      <td>0.058</td>\n",
       "      <td>-0.033</td>\n",
       "      <td>-0.086</td>\n",
       "    </tr>\n",
       "    <tr>\n",
       "      <th>median_income</th>\n",
       "      <td>-0.077</td>\n",
       "      <td>-0.016</td>\n",
       "      <td>-0.120</td>\n",
       "      <td>0.199</td>\n",
       "      <td>-0.010</td>\n",
       "      <td>-0.001</td>\n",
       "      <td>0.012</td>\n",
       "      <td>1.000</td>\n",
       "      <td>-0.617</td>\n",
       "      <td>-0.000</td>\n",
       "      <td>0.394</td>\n",
       "    </tr>\n",
       "    <tr>\n",
       "      <th>bedrooms_per_room</th>\n",
       "      <td>-0.125</td>\n",
       "      <td>0.102</td>\n",
       "      <td>0.129</td>\n",
       "      <td>-0.194</td>\n",
       "      <td>0.078</td>\n",
       "      <td>0.032</td>\n",
       "      <td>0.058</td>\n",
       "      <td>-0.617</td>\n",
       "      <td>1.000</td>\n",
       "      <td>-0.003</td>\n",
       "      <td>-0.501</td>\n",
       "    </tr>\n",
       "    <tr>\n",
       "      <th>population_per_household</th>\n",
       "      <td>-0.002</td>\n",
       "      <td>0.011</td>\n",
       "      <td>0.012</td>\n",
       "      <td>-0.029</td>\n",
       "      <td>-0.034</td>\n",
       "      <td>0.065</td>\n",
       "      <td>-0.033</td>\n",
       "      <td>-0.000</td>\n",
       "      <td>-0.003</td>\n",
       "      <td>1.000</td>\n",
       "      <td>0.002</td>\n",
       "    </tr>\n",
       "    <tr>\n",
       "      <th>rooms_per_household</th>\n",
       "      <td>0.119</td>\n",
       "      <td>-0.035</td>\n",
       "      <td>-0.181</td>\n",
       "      <td>0.169</td>\n",
       "      <td>0.010</td>\n",
       "      <td>-0.076</td>\n",
       "      <td>-0.086</td>\n",
       "      <td>0.394</td>\n",
       "      <td>-0.501</td>\n",
       "      <td>0.002</td>\n",
       "      <td>1.000</td>\n",
       "    </tr>\n",
       "  </tbody>\n",
       "</table>\n",
       "</div>"
      ],
      "text/plain": [
       "                          latitude  longitude  housing_median_age  \\\n",
       "latitude                     1.000     -0.925               0.002   \n",
       "longitude                   -0.925      1.000              -0.100   \n",
       "housing_median_age           0.002     -0.100               1.000   \n",
       "total_rooms                 -0.026      0.036              -0.364   \n",
       "total_bedrooms              -0.060      0.064              -0.324   \n",
       "population                  -0.100      0.092              -0.292   \n",
       "households                  -0.064      0.050              -0.306   \n",
       "median_income               -0.077     -0.016              -0.120   \n",
       "bedrooms_per_room           -0.125      0.102               0.129   \n",
       "population_per_household    -0.002      0.011               0.012   \n",
       "rooms_per_household          0.119     -0.035              -0.181   \n",
       "\n",
       "                          total_rooms  total_bedrooms  population  households  \\\n",
       "latitude                       -0.026          -0.060      -0.100      -0.064   \n",
       "longitude                       0.036           0.064       0.092       0.050   \n",
       "housing_median_age             -0.364          -0.324      -0.292      -0.306   \n",
       "total_rooms                     1.000           0.932       0.853       0.921   \n",
       "total_bedrooms                  0.932           1.000       0.877       0.979   \n",
       "population                      0.853           0.877       1.000       0.907   \n",
       "households                      0.921           0.979       0.907       1.000   \n",
       "median_income                   0.199          -0.010      -0.001       0.012   \n",
       "bedrooms_per_room              -0.194           0.078       0.032       0.058   \n",
       "population_per_household       -0.029          -0.034       0.065      -0.033   \n",
       "rooms_per_household             0.169           0.010      -0.076      -0.086   \n",
       "\n",
       "                          median_income  bedrooms_per_room  \\\n",
       "latitude                         -0.077             -0.125   \n",
       "longitude                        -0.016              0.102   \n",
       "housing_median_age               -0.120              0.129   \n",
       "total_rooms                       0.199             -0.194   \n",
       "total_bedrooms                   -0.010              0.078   \n",
       "population                       -0.001              0.032   \n",
       "households                        0.012              0.058   \n",
       "median_income                     1.000             -0.617   \n",
       "bedrooms_per_room                -0.617              1.000   \n",
       "population_per_household         -0.000             -0.003   \n",
       "rooms_per_household               0.394             -0.501   \n",
       "\n",
       "                          population_per_household  rooms_per_household  \n",
       "latitude                                    -0.002                0.119  \n",
       "longitude                                    0.011               -0.035  \n",
       "housing_median_age                           0.012               -0.181  \n",
       "total_rooms                                 -0.029                0.169  \n",
       "total_bedrooms                              -0.034                0.010  \n",
       "population                                   0.065               -0.076  \n",
       "households                                  -0.033               -0.086  \n",
       "median_income                               -0.000                0.394  \n",
       "bedrooms_per_room                           -0.003               -0.501  \n",
       "population_per_household                     1.000                0.002  \n",
       "rooms_per_household                          0.002                1.000  "
      ]
     },
     "execution_count": 32,
     "metadata": {},
     "output_type": "execute_result"
    }
   ],
   "source": [
    "# another approach \n",
    "df_train[numerical].corr().round(3)"
   ]
  },
  {
   "cell_type": "code",
   "execution_count": 33,
   "id": "842c6dae",
   "metadata": {},
   "outputs": [
    {
     "data": {
      "text/plain": [
       "total_bedrooms  households    0.979399\n",
       "dtype: float64"
      ]
     },
     "execution_count": 33,
     "metadata": {},
     "output_type": "execute_result"
    }
   ],
   "source": [
    "corr_matr = df_train[numerical].corr().abs().unstack()\n",
    "corr_matr[corr_matr == 1] = 0\n",
    "corr_matr.sort_values(ascending = False).drop_duplicates().head(1)"
   ]
  },
  {
   "cell_type": "markdown",
   "id": "590ab6dc",
   "metadata": {},
   "source": [
    "## Make median_house_value binary\n",
    "* We need to turn the median_house_value variable from numeric into binary.\n",
    "* Let's create a variable above_average which is 1 if the median_house_value is above its mean value and 0 otherwise."
   ]
  },
  {
   "cell_type": "code",
   "execution_count": 34,
   "id": "8c2549a6",
   "metadata": {},
   "outputs": [],
   "source": [
    "mean_med_val = df.median_house_value.mean()\n",
    "above_average_train = (y_train > mean_med_val).astype(int)\n",
    "above_average_val = (y_val > mean_med_val).astype(int)\n",
    "above_average_test = (y_test > mean_med_val).astype(int)"
   ]
  },
  {
   "cell_type": "code",
   "execution_count": 35,
   "id": "623bfdc8",
   "metadata": {
    "scrolled": true
   },
   "outputs": [
    {
     "data": {
      "text/plain": [
       "206855.81690891474"
      ]
     },
     "execution_count": 35,
     "metadata": {},
     "output_type": "execute_result"
    }
   ],
   "source": [
    "mean_med_val"
   ]
  },
  {
   "cell_type": "code",
   "execution_count": 36,
   "id": "67af6120",
   "metadata": {},
   "outputs": [
    {
     "data": {
      "text/plain": [
       "206807.7419250646"
      ]
     },
     "execution_count": 36,
     "metadata": {},
     "output_type": "execute_result"
    }
   ],
   "source": [
    "y_train.mean()"
   ]
  },
  {
   "cell_type": "markdown",
   "id": "e3484735",
   "metadata": {},
   "source": [
    "## Question 3\n",
    "\n",
    "* Calculate the mutual information score with the (binarized) price for the categorical variable that we have. Use the training set only.\n",
    "* What is the value of mutual information?\n",
    "* Round it to 2 decimal digits using round(score, 2)"
   ]
  },
  {
   "cell_type": "code",
   "execution_count": 37,
   "id": "11f7ca52",
   "metadata": {},
   "outputs": [],
   "source": [
    "from sklearn.metrics import mutual_info_score"
   ]
  },
  {
   "cell_type": "code",
   "execution_count": 38,
   "id": "8f6b752d",
   "metadata": {},
   "outputs": [],
   "source": [
    "categorical = ['ocean_proximity']"
   ]
  },
  {
   "cell_type": "code",
   "execution_count": 39,
   "id": "c0999d29",
   "metadata": {},
   "outputs": [
    {
     "data": {
      "text/plain": [
       "0.1"
      ]
     },
     "execution_count": 39,
     "metadata": {},
     "output_type": "execute_result"
    }
   ],
   "source": [
    "score = mutual_info_score(df_train[categorical[0]], above_average_train)\n",
    "round(score, 2)"
   ]
  },
  {
   "cell_type": "markdown",
   "id": "c64021bf",
   "metadata": {},
   "source": [
    "## Question 4\n",
    "\n",
    "* Now let's train a logistic regression\n",
    "* Remember that we have one categorical variable ocean_proximity in the data. Include it using one-hot encoding.\n",
    "* Fit the model on the training dataset.\n",
    "* To make sure the results are reproducible across different versions of Scikit-Learn, fit the model with these parameters:\n",
    "model = LogisticRegression(solver=\"liblinear\", C=1.0, max_iter=1000, random_state=42)\n",
    "* Calculate the accuracy on the validation dataset and round it to 2 decimal digits."
   ]
  },
  {
   "cell_type": "code",
   "execution_count": 40,
   "id": "3d56c095",
   "metadata": {},
   "outputs": [],
   "source": [
    "from sklearn.linear_model import LogisticRegression\n",
    "from sklearn.preprocessing import OneHotEncoder"
   ]
  },
  {
   "cell_type": "code",
   "execution_count": 41,
   "id": "f2e4c7dd",
   "metadata": {},
   "outputs": [],
   "source": [
    "from sklearn.feature_extraction import DictVectorizer"
   ]
  },
  {
   "cell_type": "code",
   "execution_count": 42,
   "id": "fbc8e3a1",
   "metadata": {},
   "outputs": [],
   "source": [
    "train_dicts = df_train[numerical + categorical].to_dict(orient='records')"
   ]
  },
  {
   "cell_type": "code",
   "execution_count": 43,
   "id": "5340c914",
   "metadata": {},
   "outputs": [
    {
     "data": {
      "text/plain": [
       "{'latitude': 34.43,\n",
       " 'longitude': -119.67,\n",
       " 'housing_median_age': 39.0,\n",
       " 'total_rooms': 1467.0,\n",
       " 'total_bedrooms': 381.0,\n",
       " 'population': 1404.0,\n",
       " 'households': 374.0,\n",
       " 'median_income': 2.3681,\n",
       " 'bedrooms_per_room': 0.25971370143149286,\n",
       " 'population_per_household': 3.7540106951871657,\n",
       " 'rooms_per_household': 3.9224598930481283,\n",
       " 'ocean_proximity': '<1H OCEAN'}"
      ]
     },
     "execution_count": 43,
     "metadata": {},
     "output_type": "execute_result"
    }
   ],
   "source": [
    "train_dicts[0]"
   ]
  },
  {
   "cell_type": "code",
   "execution_count": 44,
   "id": "a9f4b06e",
   "metadata": {},
   "outputs": [],
   "source": [
    "dv = DictVectorizer(sparse=False)"
   ]
  },
  {
   "cell_type": "code",
   "execution_count": 45,
   "id": "bd44ead3",
   "metadata": {},
   "outputs": [],
   "source": [
    "X_train = dv.fit_transform(train_dicts)"
   ]
  },
  {
   "cell_type": "code",
   "execution_count": 46,
   "id": "1297dd65",
   "metadata": {},
   "outputs": [
    {
     "data": {
      "text/plain": [
       "array([[2.59713701e-01, 3.74000000e+02, 3.90000000e+01, ...,\n",
       "        3.92245989e+00, 3.81000000e+02, 1.46700000e+03],\n",
       "       [1.30227981e-01, 8.06000000e+02, 2.40000000e+01, ...,\n",
       "        7.56451613e+00, 7.94000000e+02, 6.09700000e+03],\n",
       "       [2.34624146e-01, 3.37000000e+02, 4.10000000e+01, ...,\n",
       "        3.90801187e+00, 3.09000000e+02, 1.31700000e+03],\n",
       "       ...,\n",
       "       [1.82879377e-01, 6.02000000e+02, 1.80000000e+01, ...,\n",
       "        5.54983389e+00, 6.11000000e+02, 3.34100000e+03],\n",
       "       [2.29126214e-01, 3.50000000e+02, 1.60000000e+01, ...,\n",
       "        4.41428571e+00, 3.54000000e+02, 1.54500000e+03],\n",
       "       [2.09574468e-01, 2.15000000e+02, 3.50000000e+01, ...,\n",
       "        4.37209302e+00, 1.97000000e+02, 9.40000000e+02]])"
      ]
     },
     "execution_count": 46,
     "metadata": {},
     "output_type": "execute_result"
    }
   ],
   "source": [
    "X_train"
   ]
  },
  {
   "cell_type": "code",
   "execution_count": 47,
   "id": "e46d8ca4",
   "metadata": {},
   "outputs": [
    {
     "data": {
      "text/plain": [
       "array(['bedrooms_per_room', 'households', 'housing_median_age',\n",
       "       'latitude', 'longitude', 'median_income',\n",
       "       'ocean_proximity=<1H OCEAN', 'ocean_proximity=INLAND',\n",
       "       'ocean_proximity=ISLAND', 'ocean_proximity=NEAR BAY',\n",
       "       'ocean_proximity=NEAR OCEAN', 'population',\n",
       "       'population_per_household', 'rooms_per_household',\n",
       "       'total_bedrooms', 'total_rooms'], dtype=object)"
      ]
     },
     "execution_count": 47,
     "metadata": {},
     "output_type": "execute_result"
    }
   ],
   "source": [
    "dv.get_feature_names_out()"
   ]
  },
  {
   "cell_type": "code",
   "execution_count": 48,
   "id": "091dbb05",
   "metadata": {},
   "outputs": [],
   "source": [
    "model = LogisticRegression(solver=\"liblinear\", C=1.0, max_iter=1000, random_state=42)"
   ]
  },
  {
   "cell_type": "code",
   "execution_count": 49,
   "id": "c155e979",
   "metadata": {},
   "outputs": [
    {
     "data": {
      "text/html": [
       "<style>#sk-container-id-1 {color: black;background-color: white;}#sk-container-id-1 pre{padding: 0;}#sk-container-id-1 div.sk-toggleable {background-color: white;}#sk-container-id-1 label.sk-toggleable__label {cursor: pointer;display: block;width: 100%;margin-bottom: 0;padding: 0.3em;box-sizing: border-box;text-align: center;}#sk-container-id-1 label.sk-toggleable__label-arrow:before {content: \"▸\";float: left;margin-right: 0.25em;color: #696969;}#sk-container-id-1 label.sk-toggleable__label-arrow:hover:before {color: black;}#sk-container-id-1 div.sk-estimator:hover label.sk-toggleable__label-arrow:before {color: black;}#sk-container-id-1 div.sk-toggleable__content {max-height: 0;max-width: 0;overflow: hidden;text-align: left;background-color: #f0f8ff;}#sk-container-id-1 div.sk-toggleable__content pre {margin: 0.2em;color: black;border-radius: 0.25em;background-color: #f0f8ff;}#sk-container-id-1 input.sk-toggleable__control:checked~div.sk-toggleable__content {max-height: 200px;max-width: 100%;overflow: auto;}#sk-container-id-1 input.sk-toggleable__control:checked~label.sk-toggleable__label-arrow:before {content: \"▾\";}#sk-container-id-1 div.sk-estimator input.sk-toggleable__control:checked~label.sk-toggleable__label {background-color: #d4ebff;}#sk-container-id-1 div.sk-label input.sk-toggleable__control:checked~label.sk-toggleable__label {background-color: #d4ebff;}#sk-container-id-1 input.sk-hidden--visually {border: 0;clip: rect(1px 1px 1px 1px);clip: rect(1px, 1px, 1px, 1px);height: 1px;margin: -1px;overflow: hidden;padding: 0;position: absolute;width: 1px;}#sk-container-id-1 div.sk-estimator {font-family: monospace;background-color: #f0f8ff;border: 1px dotted black;border-radius: 0.25em;box-sizing: border-box;margin-bottom: 0.5em;}#sk-container-id-1 div.sk-estimator:hover {background-color: #d4ebff;}#sk-container-id-1 div.sk-parallel-item::after {content: \"\";width: 100%;border-bottom: 1px solid gray;flex-grow: 1;}#sk-container-id-1 div.sk-label:hover label.sk-toggleable__label {background-color: #d4ebff;}#sk-container-id-1 div.sk-serial::before {content: \"\";position: absolute;border-left: 1px solid gray;box-sizing: border-box;top: 0;bottom: 0;left: 50%;z-index: 0;}#sk-container-id-1 div.sk-serial {display: flex;flex-direction: column;align-items: center;background-color: white;padding-right: 0.2em;padding-left: 0.2em;position: relative;}#sk-container-id-1 div.sk-item {position: relative;z-index: 1;}#sk-container-id-1 div.sk-parallel {display: flex;align-items: stretch;justify-content: center;background-color: white;position: relative;}#sk-container-id-1 div.sk-item::before, #sk-container-id-1 div.sk-parallel-item::before {content: \"\";position: absolute;border-left: 1px solid gray;box-sizing: border-box;top: 0;bottom: 0;left: 50%;z-index: -1;}#sk-container-id-1 div.sk-parallel-item {display: flex;flex-direction: column;z-index: 1;position: relative;background-color: white;}#sk-container-id-1 div.sk-parallel-item:first-child::after {align-self: flex-end;width: 50%;}#sk-container-id-1 div.sk-parallel-item:last-child::after {align-self: flex-start;width: 50%;}#sk-container-id-1 div.sk-parallel-item:only-child::after {width: 0;}#sk-container-id-1 div.sk-dashed-wrapped {border: 1px dashed gray;margin: 0 0.4em 0.5em 0.4em;box-sizing: border-box;padding-bottom: 0.4em;background-color: white;}#sk-container-id-1 div.sk-label label {font-family: monospace;font-weight: bold;display: inline-block;line-height: 1.2em;}#sk-container-id-1 div.sk-label-container {text-align: center;}#sk-container-id-1 div.sk-container {/* jupyter's `normalize.less` sets `[hidden] { display: none; }` but bootstrap.min.css set `[hidden] { display: none !important; }` so we also need the `!important` here to be able to override the default hidden behavior on the sphinx rendered scikit-learn.org. See: https://github.com/scikit-learn/scikit-learn/issues/21755 */display: inline-block !important;position: relative;}#sk-container-id-1 div.sk-text-repr-fallback {display: none;}</style><div id=\"sk-container-id-1\" class=\"sk-top-container\"><div class=\"sk-text-repr-fallback\"><pre>LogisticRegression(max_iter=1000, random_state=42, solver=&#x27;liblinear&#x27;)</pre><b>In a Jupyter environment, please rerun this cell to show the HTML representation or trust the notebook. <br />On GitHub, the HTML representation is unable to render, please try loading this page with nbviewer.org.</b></div><div class=\"sk-container\" hidden><div class=\"sk-item\"><div class=\"sk-estimator sk-toggleable\"><input class=\"sk-toggleable__control sk-hidden--visually\" id=\"sk-estimator-id-1\" type=\"checkbox\" checked><label for=\"sk-estimator-id-1\" class=\"sk-toggleable__label sk-toggleable__label-arrow\">LogisticRegression</label><div class=\"sk-toggleable__content\"><pre>LogisticRegression(max_iter=1000, random_state=42, solver=&#x27;liblinear&#x27;)</pre></div></div></div></div></div>"
      ],
      "text/plain": [
       "LogisticRegression(max_iter=1000, random_state=42, solver='liblinear')"
      ]
     },
     "execution_count": 49,
     "metadata": {},
     "output_type": "execute_result"
    }
   ],
   "source": [
    "model.fit(X_train, above_average_train)"
   ]
  },
  {
   "cell_type": "code",
   "execution_count": 50,
   "id": "60ff4363",
   "metadata": {},
   "outputs": [
    {
     "data": {
      "text/plain": [
       "array([0, 1])"
      ]
     },
     "execution_count": 50,
     "metadata": {},
     "output_type": "execute_result"
    }
   ],
   "source": [
    "model.classes_"
   ]
  },
  {
   "cell_type": "code",
   "execution_count": 51,
   "id": "0be18573",
   "metadata": {},
   "outputs": [
    {
     "data": {
      "text/plain": [
       "array([ 0.113,  0.004,  0.036,  0.103,  0.083,  1.196,  0.452, -1.599,\n",
       "        0.012,  0.309,  0.763, -0.002,  0.01 , -0.014,  0.002, -0.   ])"
      ]
     },
     "execution_count": 51,
     "metadata": {},
     "output_type": "execute_result"
    }
   ],
   "source": [
    "model.coef_[0].round(3)"
   ]
  },
  {
   "cell_type": "code",
   "execution_count": 52,
   "id": "f31890d4",
   "metadata": {},
   "outputs": [
    {
     "data": {
      "text/plain": [
       "-0.06226206219069978"
      ]
     },
     "execution_count": 52,
     "metadata": {},
     "output_type": "execute_result"
    }
   ],
   "source": [
    "model.intercept_[0]"
   ]
  },
  {
   "cell_type": "markdown",
   "id": "6e1db9b6",
   "metadata": {},
   "source": [
    "Validation of the model"
   ]
  },
  {
   "cell_type": "code",
   "execution_count": 53,
   "id": "5f675a3f",
   "metadata": {},
   "outputs": [],
   "source": [
    "val_dicts = df_val[numerical + categorical].to_dict(orient='records')\n",
    "X_val = dv.transform(val_dicts)"
   ]
  },
  {
   "cell_type": "code",
   "execution_count": 54,
   "id": "b190ccd5",
   "metadata": {},
   "outputs": [],
   "source": [
    "y_pred = model.predict(X_val)"
   ]
  },
  {
   "cell_type": "code",
   "execution_count": 55,
   "id": "bc9c10a2",
   "metadata": {},
   "outputs": [
    {
     "data": {
      "text/plain": [
       "0.84"
      ]
     },
     "execution_count": 55,
     "metadata": {},
     "output_type": "execute_result"
    }
   ],
   "source": [
    "original_accuracy = (above_average_val == y_pred).mean()\n",
    "round(original_accuracy, 2)"
   ]
  },
  {
   "cell_type": "markdown",
   "id": "2c1ebfcc",
   "metadata": {},
   "source": [
    "## Question 5\n",
    "\n",
    "* Let's find the least useful feature using the feature elimination technique.\n",
    "* Train a model with all these features (using the same parameters as in Q4).\n",
    "* Now exclude each feature from this set and train a model without it. Record the accuracy for each model.\n",
    "* For each feature, calculate the difference between the original accuracy and the accuracy without the feature.\n",
    "* Which of following feature has the smallest difference?\n",
    "\n",
    "total_rooms\n",
    "total_bedrooms\n",
    "population\n",
    "households\n"
   ]
  },
  {
   "cell_type": "code",
   "execution_count": 63,
   "id": "ef72c954",
   "metadata": {},
   "outputs": [
    {
     "data": {
      "text/plain": [
       "['bedrooms_per_room',\n",
       " 'households',\n",
       " 'housing_median_age',\n",
       " 'latitude',\n",
       " 'longitude',\n",
       " 'median_income',\n",
       " 'ocean_proximity=<1H OCEAN',\n",
       " 'ocean_proximity=INLAND',\n",
       " 'ocean_proximity=ISLAND',\n",
       " 'ocean_proximity=NEAR BAY',\n",
       " 'ocean_proximity=NEAR OCEAN',\n",
       " 'population',\n",
       " 'population_per_household',\n",
       " 'rooms_per_household',\n",
       " 'total_bedrooms',\n",
       " 'total_rooms']"
      ]
     },
     "execution_count": 63,
     "metadata": {},
     "output_type": "execute_result"
    }
   ],
   "source": [
    "features_list = list(dv.get_feature_names_out())\n",
    "features_list "
   ]
  },
  {
   "cell_type": "code",
   "execution_count": 58,
   "id": "8520f0c1",
   "metadata": {},
   "outputs": [],
   "source": [
    "accuracy_score = np.zeros(len(features_list))\n",
    "for i in range(len(features_list)):\n",
    "    model = LogisticRegression(solver=\"liblinear\", C=1.0, max_iter=1000, random_state=42)\n",
    "    X_train_part = np.delete(X_train, i, 1)\n",
    "    X_val_part = np.delete(X_val, i, 1)\n",
    "    model.fit(X_train_part, above_average_train)\n",
    "    y_pred = model.predict(X_val_part)\n",
    "    acc_score = (above_average_val == y_pred).mean()\n",
    "    accuracy_score[i] = acc_score"
   ]
  },
  {
   "cell_type": "code",
   "execution_count": 59,
   "id": "d3b23960",
   "metadata": {},
   "outputs": [
    {
     "data": {
      "text/plain": [
       "array([0.83624031, 0.83406008, 0.8316376 , 0.83236434, 0.83187984,\n",
       "       0.78536822, 0.83478682, 0.83575581, 0.83575581, 0.83624031,\n",
       "       0.83575581, 0.82630814, 0.83575581, 0.83527132, 0.8372093 ,\n",
       "       0.83624031])"
      ]
     },
     "execution_count": 59,
     "metadata": {},
     "output_type": "execute_result"
    }
   ],
   "source": [
    "accuracy_score"
   ]
  },
  {
   "cell_type": "code",
   "execution_count": 60,
   "id": "5fc4fd9e",
   "metadata": {},
   "outputs": [
    {
     "data": {
      "text/plain": [
       "array([0.00024225, 0.00193798, 0.00436047, 0.00363372, 0.00411822,\n",
       "       0.05062984, 0.00121124, 0.00024225, 0.00024225, 0.00024225,\n",
       "       0.00024225, 0.00968992, 0.00024225, 0.00072674, 0.00121124,\n",
       "       0.00024225])"
      ]
     },
     "execution_count": 60,
     "metadata": {},
     "output_type": "execute_result"
    }
   ],
   "source": [
    "accuracy_difference = abs(accuracy_score - original_accuracy)\n",
    "accuracy_difference"
   ]
  },
  {
   "cell_type": "code",
   "execution_count": 61,
   "id": "49eb54f7",
   "metadata": {},
   "outputs": [],
   "source": [
    "list_of_diffs = np.array(list(zip(features_list, accuracy_difference)))"
   ]
  },
  {
   "cell_type": "code",
   "execution_count": 64,
   "id": "7ba31c04",
   "metadata": {},
   "outputs": [],
   "source": [
    "chosen = ['total_rooms', 'total_bedrooms', 'population', 'households']\n",
    "ind = []\n",
    "for i in chosen:\n",
    "    ind.append(features_list.index(i))"
   ]
  },
  {
   "cell_type": "code",
   "execution_count": 65,
   "id": "bb831ec3",
   "metadata": {},
   "outputs": [],
   "source": [
    "chosen_diffs = list_of_diffs[ind]"
   ]
  },
  {
   "cell_type": "code",
   "execution_count": 66,
   "id": "ec492591",
   "metadata": {},
   "outputs": [
    {
     "data": {
      "text/plain": [
       "array([['total_rooms', '0.00024224806201555982'],\n",
       "       ['total_bedrooms', '0.001211240310077577'],\n",
       "       ['households', '0.0019379844961240345'],\n",
       "       ['population', '0.009689922480620172']], dtype='<U32')"
      ]
     },
     "execution_count": 66,
     "metadata": {},
     "output_type": "execute_result"
    }
   ],
   "source": [
    "chosen_diffs[chosen_diffs[:, 1].argsort()]"
   ]
  },
  {
   "cell_type": "markdown",
   "id": "fc19d2c8",
   "metadata": {},
   "source": [
    "## Question 6\n",
    "\n",
    "* For this question, we'll see how to use a linear regression model from Scikit-Learn\n",
    "* We'll need to use the original column 'median_house_value'. Apply the logarithmic transformation to this column.\n",
    "* Fit the Ridge regression model (model = Ridge(alpha=a, solver=\"sag\", random_state=42)) on the training data.\n",
    "* This model has a parameter alpha. Let's try the following values: [0, 0.01, 0.1, 1, 10]\n",
    "* Which of these alphas leads to the best RMSE on the validation set? Round your RMSE scores to 3 decimal digits."
   ]
  },
  {
   "cell_type": "code",
   "execution_count": 67,
   "id": "abb1ce8d",
   "metadata": {},
   "outputs": [],
   "source": [
    "from sklearn.linear_model import Ridge\n",
    "from sklearn.metrics import mean_squared_error"
   ]
  },
  {
   "cell_type": "code",
   "execution_count": 68,
   "id": "d4498dd4",
   "metadata": {},
   "outputs": [],
   "source": [
    "y_train_log = np.log1p(y_train)\n",
    "y_val_log = np.log1p(y_val)\n",
    "y_test_log = np.log1p(y_test)"
   ]
  },
  {
   "cell_type": "code",
   "execution_count": 69,
   "id": "c91ad999",
   "metadata": {},
   "outputs": [],
   "source": [
    "alphas = [0, 0.01, 0.1, 1, 10]\n",
    "rmse = []\n",
    "for alpha in alphas:\n",
    "    model = Ridge(alpha=alpha, solver=\"sag\", random_state=42)\n",
    "    model.fit(X_train, y_train_log)\n",
    "    y_pred = model.predict(X_val)\n",
    "    rmse.append( mean_squared_error(y_val, y_pred))"
   ]
  },
  {
   "cell_type": "code",
   "execution_count": 70,
   "id": "62fb4944",
   "metadata": {},
   "outputs": [
    {
     "data": {
      "text/plain": [
       "[57138138586.65307,\n",
       " 57138138586.65307,\n",
       " 57138138586.653145,\n",
       " 57138138586.653885,\n",
       " 57138138586.66134]"
      ]
     },
     "execution_count": 70,
     "metadata": {},
     "output_type": "execute_result"
    }
   ],
   "source": [
    "rmse"
   ]
  },
  {
   "cell_type": "markdown",
   "id": "f50286dd",
   "metadata": {},
   "source": [
    "As we can see that the least rmse is when alpha = 0 or alpha = 0.01"
   ]
  },
  {
   "cell_type": "code",
   "execution_count": 71,
   "id": "4f44133c",
   "metadata": {},
   "outputs": [
    {
     "data": {
      "text/plain": [
       "0"
      ]
     },
     "execution_count": 71,
     "metadata": {},
     "output_type": "execute_result"
    }
   ],
   "source": [
    "alphas[np.array(rmse).argmin()]"
   ]
  },
  {
   "cell_type": "code",
   "execution_count": null,
   "id": "ab3b3a48",
   "metadata": {},
   "outputs": [],
   "source": []
  }
 ],
 "metadata": {
  "kernelspec": {
   "display_name": "Python 3 (ipykernel)",
   "language": "python",
   "name": "python3"
  },
  "language_info": {
   "codemirror_mode": {
    "name": "ipython",
    "version": 3
   },
   "file_extension": ".py",
   "mimetype": "text/x-python",
   "name": "python",
   "nbconvert_exporter": "python",
   "pygments_lexer": "ipython3",
   "version": "3.9.13"
  }
 },
 "nbformat": 4,
 "nbformat_minor": 5
}
