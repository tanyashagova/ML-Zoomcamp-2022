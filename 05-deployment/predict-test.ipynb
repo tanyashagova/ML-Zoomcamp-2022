{
 "cells": [
  {
   "cell_type": "code",
   "execution_count": 1,
   "id": "98f82435",
   "metadata": {},
   "outputs": [],
   "source": [
    "import requests"
   ]
  },
  {
   "cell_type": "code",
   "execution_count": 2,
   "id": "48a0cf04",
   "metadata": {},
   "outputs": [],
   "source": [
    "url = \"http://localhost:9696/predict2\"  "
   ]
  },
  {
   "cell_type": "code",
   "execution_count": 3,
   "id": "2674865a",
   "metadata": {},
   "outputs": [],
   "source": [
    "client = {\"reports\": 0, \"share\": 0.245, \"expenditure\": 3.438, \"owner\": \"yes\"}"
   ]
  },
  {
   "cell_type": "code",
   "execution_count": 4,
   "id": "a9270663",
   "metadata": {},
   "outputs": [
    {
     "data": {
      "text/plain": [
       "{'reports': 0, 'share': 0.245, 'expenditure': 3.438, 'owner': 'yes'}"
      ]
     },
     "execution_count": 4,
     "metadata": {},
     "output_type": "execute_result"
    }
   ],
   "source": [
    "client"
   ]
  },
  {
   "cell_type": "code",
   "execution_count": 5,
   "id": "90f37ede",
   "metadata": {
    "scrolled": true
   },
   "outputs": [],
   "source": [
    "result = requests.post(url, json=client).json()"
   ]
  },
  {
   "cell_type": "code",
   "execution_count": 6,
   "id": "1e7c9f6d",
   "metadata": {},
   "outputs": [
    {
     "data": {
      "text/plain": [
       "0.7692649226628628"
      ]
     },
     "execution_count": 6,
     "metadata": {},
     "output_type": "execute_result"
    }
   ],
   "source": [
    "result['card_probability']"
   ]
  },
  {
   "cell_type": "code",
   "execution_count": null,
   "id": "44f52d2b",
   "metadata": {},
   "outputs": [],
   "source": []
  }
 ],
 "metadata": {
  "kernelspec": {
   "display_name": "Python 3.9.13 ('ml-zoomcamp')",
   "language": "python",
   "name": "python3"
  },
  "language_info": {
   "codemirror_mode": {
    "name": "ipython",
    "version": 3
   },
   "file_extension": ".py",
   "mimetype": "text/x-python",
   "name": "python",
   "nbconvert_exporter": "python",
   "pygments_lexer": "ipython3",
   "version": "3.9.13"
  },
  "vscode": {
   "interpreter": {
    "hash": "6c5efa4849f3c4cb1b84fd7578c112a36789c482734c17605ef18f62aef0b531"
   }
  }
 },
 "nbformat": 4,
 "nbformat_minor": 5
}
